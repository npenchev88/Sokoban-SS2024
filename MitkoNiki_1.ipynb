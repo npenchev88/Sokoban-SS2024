{
 "cells": [
  {
   "cell_type": "code",
   "execution_count": null,
   "id": "1c52c0ca",
   "metadata": {},
   "outputs": [],
   "source": [
    "import gym\n",
    "import gym_sokoban\n",
    "import pyglet\n",
    "import time\n",
    "from stable_baselines3 import PPO\n",
    "\n",
    "## Custom rendering setup if gym's rendering is not available\n",
    "class Viewer:\n",
    "    def __init__(self, width, height):\n",
    "        self.window = pyglet.window.Window(width, height)\n",
    "\n",
    "    def render(self, image):\n",
    "        self.window.clear()\n",
    "        pyglet.image.ImageData(image.shape[1], image.shape[0], 'RGB', image.tobytes(), pitch=image.shape[1]*-3).blit(0, 0)\n",
    "        self.window.flip()\n",
    "        \n",
    "        \n",
    "env = gym.make('Sokoban-small-v1')\n",
    "env.reset()\n",
    "\n",
    "\n",
    "viewer = Viewer(160, 160)  # Adjust the size according to your environment\n",
    "\n",
    "\n",
    "ACTION_LOOKUP = env.unwrapped.get_action_lookup()\n",
    "# print(\"Created environment: {}\".format('Sokoban-v2'))\n",
    "#\n",
    "for i_episode in range(1):#20\n",
    "    # observation = env.reset()\n",
    "\n",
    "    for t in range(100):#100\n",
    "        viewer.render(env.render(mode='rgb_array'))\n",
    "        action = env.action_space.sample()\n",
    "\n",
    "        # Sleep makes the actions visible for users\n",
    "        time.sleep(1)\n",
    "        observation, reward, done, info = env.step(action)\n",
    "\n",
    "        print(ACTION_LOOKUP[action], reward, done, info)\n",
    "        if done:\n",
    "            print(\"Episode finished after {} timesteps\".format(t+1))\n",
    "            viewer.render(env.render(mode='rgb_array'))\n",
    "            break\n",
    "\n",
    "    env.close()\n",
    "\n",
    "time.sleep(10)"
   ]
  },
  {
   "cell_type": "code",
   "execution_count": null,
   "id": "f113b713-e0ea-4a4a-9e80-e9531b4b236b",
   "metadata": {
    "ExecuteTime": {
     "end_time": "2024-06-23T16:23:13.966593Z",
     "start_time": "2024-06-23T16:23:11.419123Z"
    }
   },
   "outputs": [],
   "source": [
    "import gym\n",
    "import gym_sokoban\n",
    "import pyglet\n",
    "import time\n",
    "from stable_baselines3 import PPO"
   ]
  },
  {
   "cell_type": "code",
   "execution_count": null,
   "id": "6985f7d4-5053-4448-aebe-d0d4cab3a991",
   "metadata": {
    "ExecuteTime": {
     "end_time": "2024-06-23T16:23:16.482430Z",
     "start_time": "2024-06-23T16:23:16.478101Z"
    }
   },
   "outputs": [],
   "source": [
    "## Custom rendering setup if gym's rendering is not available\n",
    "class Viewer:\n",
    "    def __init__(self, width, height):\n",
    "        self.window = pyglet.window.Window(width, height)\n",
    "\n",
    "    def render(self, image):\n",
    "        self.window.clear()\n",
    "        pyglet.image.ImageData(image.shape[1], image.shape[0], 'RGB', image.tobytes(), pitch=image.shape[1]*-3).blit(0, 0)\n",
    "        self.window.flip()"
   ]
  },
  {
   "cell_type": "code",
   "execution_count": null,
   "id": "1e00fe28-179f-4aff-97d4-78af4bf3ca13",
   "metadata": {
    "ExecuteTime": {
     "end_time": "2024-06-23T16:23:18.587477Z",
     "start_time": "2024-06-23T16:23:17.857939Z"
    }
   },
   "outputs": [],
   "source": [
    "env = gym.make('Sokoban-small-v1')\n",
    "env.reset()"
   ]
  },
  {
   "cell_type": "code",
   "execution_count": null,
   "id": "fae210df-ce0f-447c-85b7-9917f817c967",
   "metadata": {
    "ExecuteTime": {
     "end_time": "2024-06-23T16:23:41.447035Z",
     "start_time": "2024-06-23T16:23:39.787592Z"
    }
   },
   "outputs": [],
   "source": [
    "viewer = Viewer(160, 160)  # Adjust the size according to your environment"
   ]
  },
  {
   "cell_type": "code",
   "execution_count": null,
   "id": "126925ae-cd28-44cc-895d-5370a39145bd",
   "metadata": {
    "ExecuteTime": {
     "end_time": "2024-06-23T16:25:56.240682Z",
     "start_time": "2024-06-23T16:24:01.454058Z"
    }
   },
   "outputs": [],
   "source": [
    "ACTION_LOOKUP = env.unwrapped.get_action_lookup()\n",
    "# print(\"Created environment: {}\".format('Sokoban-v2'))\n",
    "#\n",
    "for i_episode in range(1):#20\n",
    "    # observation = env.reset()\n",
    "\n",
    "    for t in range(100):#100\n",
    "        viewer.render(env.render(mode='rgb_array'))\n",
    "        action = env.action_space.sample()\n",
    "\n",
    "        # Sleep makes the actions visible for users\n",
    "        time.sleep(1)\n",
    "        observation, reward, done, info = env.step(action)\n",
    "\n",
    "        print(ACTION_LOOKUP[action], reward, done, info)\n",
    "        if done:\n",
    "            print(\"Episode finished after {} timesteps\".format(t+1))\n",
    "            viewer.render(env.render(mode='rgb_array'))\n",
    "            break\n",
    "\n",
    "    env.close()\n",
    "\n",
    "time.sleep(10)"
   ]
  },
  {
   "cell_type": "code",
   "execution_count": null,
   "id": "63df4a6c",
   "metadata": {},
   "outputs": [],
   "source": []
  },
  {
   "cell_type": "code",
   "execution_count": null,
   "id": "d1d13465",
   "metadata": {},
   "outputs": [],
   "source": []
  },
  {
   "cell_type": "code",
   "execution_count": null,
   "id": "20c89ec4",
   "metadata": {},
   "outputs": [],
   "source": []
  },
  {
   "cell_type": "code",
   "execution_count": null,
   "id": "e1893412",
   "metadata": {},
   "outputs": [],
   "source": []
  },
  {
   "cell_type": "code",
   "execution_count": null,
   "id": "e98524c0",
   "metadata": {},
   "outputs": [],
   "source": [
    "import gym\n",
    "import gym_sokoban\n",
    "import pyglet\n",
    "import time\n",
    "from stable_baselines3 import PPO\n",
    "import numpy as np\n",
    "\n",
    "## Custom rendering setup if gym's rendering is not available\n",
    "class Viewer:\n",
    "    def __init__(self, width, height):\n",
    "        self.window = pyglet.window.Window(width, height)\n",
    "        self.image = None\n",
    "\n",
    "    def render(self, image):\n",
    "        self.image = pyglet.image.ImageData(image.shape[1], image.shape[0], 'RGB', image.tobytes(), pitch=image.shape[1] * -3)\n",
    "        self.window.clear()\n",
    "        self.image.blit(0, 0)\n",
    "        self.window.flip()\n",
    "\n",
    "    def update(self, dt):\n",
    "        if self.image:\n",
    "            self.window.clear()\n",
    "            self.image.blit(0, 0)\n",
    "            self.window.flip()\n",
    "\n",
    "env = gym.make('Sokoban-small-v1')\n",
    "env.reset()\n",
    "\n",
    "viewer = Viewer(160, 160)  # Adjust the size according to your environment\n",
    "\n",
    "ACTION_LOOKUP = env.unwrapped.get_action_lookup()\n",
    "\n",
    "for i_episode in range(1):  # Run for one episode\n",
    "    for t in range(100):  # Run for 100 timesteps\n",
    "        image = env.render(mode='rgb_array')\n",
    "        viewer.render(image)\n",
    "        action = env.action_space.sample()\n",
    "\n",
    "        # Sleep to make the actions visible for users\n",
    "        time.sleep(1)\n",
    "        observation, reward, done, info = env.step(action)\n",
    "\n",
    "        print(ACTION_LOOKUP[action], reward, done, info)\n",
    "        if done:\n",
    "            print(\"Episode finished after {} timesteps\".format(t + 1))\n",
    "            viewer.render(env.render(mode='rgb_array'))\n",
    "            break\n",
    "\n",
    "    env.close()\n",
    "\n",
    "pyglet.clock.schedule_interval(viewer.update, 1/60.0)  # Schedule the viewer update at 60Hz\n",
    "pyglet.app.run()  # Run the Pyglet event loop\n"
   ]
  },
  {
   "cell_type": "code",
   "execution_count": null,
   "id": "27a15bbd",
   "metadata": {},
   "outputs": [],
   "source": []
  },
  {
   "cell_type": "code",
   "execution_count": null,
   "id": "5748fcdf",
   "metadata": {},
   "outputs": [],
   "source": []
  },
  {
   "cell_type": "code",
   "execution_count": null,
   "id": "13a2990a",
   "metadata": {},
   "outputs": [],
   "source": []
  },
  {
   "cell_type": "code",
   "execution_count": null,
   "id": "f539c01d",
   "metadata": {},
   "outputs": [],
   "source": []
  }
 ],
 "metadata": {
  "kernelspec": {
   "display_name": "Python [conda env:.conda-test]",
   "language": "python",
   "name": "conda-env-.conda-test-py"
  },
  "language_info": {
   "codemirror_mode": {
    "name": "ipython",
    "version": 3
   },
   "file_extension": ".py",
   "mimetype": "text/x-python",
   "name": "python",
   "nbconvert_exporter": "python",
   "pygments_lexer": "ipython3",
   "version": "3.12.4"
  },
  "latex_envs": {
   "LaTeX_envs_menu_present": true,
   "autoclose": false,
   "autocomplete": true,
   "bibliofile": "biblio.bib",
   "cite_by": "apalike",
   "current_citInitial": 1,
   "eqLabelWithNumbers": true,
   "eqNumInitial": 1,
   "hotkeys": {
    "equation": "Ctrl-E",
    "itemize": "Ctrl-I"
   },
   "labels_anchors": false,
   "latex_user_defs": false,
   "report_style_numbering": false,
   "user_envs_cfg": false
  },
  "toc": {
   "base_numbering": 1,
   "nav_menu": {},
   "number_sections": true,
   "sideBar": true,
   "skip_h1_title": false,
   "title_cell": "Table of Contents",
   "title_sidebar": "Contents",
   "toc_cell": false,
   "toc_position": {},
   "toc_section_display": true,
   "toc_window_display": false
  },
  "varInspector": {
   "cols": {
    "lenName": 16,
    "lenType": 16,
    "lenVar": 40
   },
   "kernels_config": {
    "python": {
     "delete_cmd_postfix": "",
     "delete_cmd_prefix": "del ",
     "library": "var_list.py",
     "varRefreshCmd": "print(var_dic_list())"
    },
    "r": {
     "delete_cmd_postfix": ") ",
     "delete_cmd_prefix": "rm(",
     "library": "var_list.r",
     "varRefreshCmd": "cat(var_dic_list()) "
    }
   },
   "types_to_exclude": [
    "module",
    "function",
    "builtin_function_or_method",
    "instance",
    "_Feature"
   ],
   "window_display": false
  }
 },
 "nbformat": 4,
 "nbformat_minor": 5
}
