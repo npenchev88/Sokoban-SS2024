{
 "cells": [
  {
   "cell_type": "markdown",
   "id": "0953c1e7",
   "metadata": {},
   "source": [
    "### Working "
   ]
  },
  {
   "cell_type": "code",
   "execution_count": null,
   "id": "12985198",
   "metadata": {
    "ExecuteTime": {
     "end_time": "2024-06-23T19:18:35.012647Z",
     "start_time": "2024-06-23T19:18:09.668324Z"
    },
    "scrolled": true
   },
   "outputs": [],
   "source": [
    "import gym\n",
    "import numpy as np\n",
    "import torch\n",
    "import torch.nn as nn\n",
    "import torch.optim as optim\n",
    "import gym_sokoban\n",
    "\n",
    "# Define the neural network for the latent dynamics model\n",
    "class LatentDynamicsModel(nn.Module):\n",
    "    def __init__(self, state_dim, latent_dim, action_dim):\n",
    "        super(LatentDynamicsModel, self).__init__()\n",
    "        self.encoder = nn.Sequential(\n",
    "            nn.Linear(state_dim, 128),\n",
    "            nn.ReLU(),\n",
    "            nn.Linear(128, latent_dim)\n",
    "        )\n",
    "        self.transition = nn.Sequential(\n",
    "            nn.Linear(latent_dim + 1, 128),  # Correct the input dimension\n",
    "            nn.ReLU(),\n",
    "            nn.Linear(128, latent_dim)\n",
    "        )\n",
    "        self.reward = nn.Sequential(\n",
    "            nn.Linear(latent_dim, 128),\n",
    "            nn.ReLU(),\n",
    "            nn.Linear(128, 1)\n",
    "        )\n",
    "    \n",
    "    def forward(self, state, action):\n",
    "        latent_state = self.encoder(state)\n",
    "        transition_input = torch.cat([latent_state, action], dim=-1)\n",
    "        next_latent_state = self.transition(transition_input)\n",
    "        reward = self.reward(next_latent_state)\n",
    "        return next_latent_state, reward\n",
    "\n",
    "# Initialize the environment and the model\n",
    "env = gym.make('Sokoban-small-v1')\n",
    "state_dim = np.prod(env.observation_space.shape)\n",
    "action_dim = env.action_space.n\n",
    "latent_dim = 64  # Example latent dimension\n",
    "\n",
    "model = LatentDynamicsModel(state_dim, latent_dim, action_dim)\n",
    "optimizer = optim.Adam(model.parameters(), lr=1e-3)\n",
    "\n",
    "# Define the rollout method for decision-time planning\n",
    "def rollout(env, model, state, action, depth=5):\n",
    "    total_reward = torch.tensor(0.0, requires_grad=True)  # Ensure total_reward requires grad\n",
    "    for _ in range(depth):\n",
    "        state_tensor = torch.FloatTensor(state).view(1, -1)  # Ensure correct shape\n",
    "        action_tensor = torch.FloatTensor([[action]])  # Ensure action is 2D\n",
    "        next_latent_state, reward = model(state_tensor, action_tensor)\n",
    "        state, reward, done, _ = env.step(action)\n",
    "        total_reward = total_reward + reward\n",
    "        if done:\n",
    "            break\n",
    "    return total_reward\n",
    "\n",
    "# Training loop\n",
    "for episode in range(1000):\n",
    "    state = env.reset()\n",
    "    done = False\n",
    "    episode_reward = 0  # Track total reward for the episode\n",
    "    while not done:\n",
    "        action = env.action_space.sample()  # Random action for simplicity\n",
    "        total_reward = rollout(env, model, state, action)\n",
    "        # Optimize the model\n",
    "        optimizer.zero_grad()\n",
    "        loss = -total_reward  # Example loss, can be replaced with actual objective\n",
    "        loss.backward()\n",
    "        optimizer.step()\n",
    "        state, reward, done, _ = env.step(action)\n",
    "        episode_reward += reward\n",
    "    print(f\"Episode {episode + 1}: Total Reward = {episode_reward}\")\n",
    "\n",
    "# Save the model after training\n",
    "torch.save(model.state_dict(), 'latent_dynamics_model.pth')\n",
    "print(\"Model saved as latent_dynamics_model.pth\")\n"
   ]
  },
  {
   "cell_type": "code",
   "execution_count": null,
   "id": "9bba1775-76ee-4404-9fb9-9bb5923533af",
   "metadata": {},
   "outputs": [],
   "source": []
  }
 ],
 "metadata": {
  "kernelspec": {
   "display_name": "Python (sokoban_2)",
   "language": "python",
   "name": "sokoban_2"
  },
  "language_info": {
   "codemirror_mode": {
    "name": "ipython",
    "version": 3
   },
   "file_extension": ".py",
   "mimetype": "text/x-python",
   "name": "python",
   "nbconvert_exporter": "python",
   "pygments_lexer": "ipython3",
   "version": "3.12.4"
  },
  "latex_envs": {
   "LaTeX_envs_menu_present": true,
   "autoclose": false,
   "autocomplete": true,
   "bibliofile": "biblio.bib",
   "cite_by": "apalike",
   "current_citInitial": 1,
   "eqLabelWithNumbers": true,
   "eqNumInitial": 1,
   "hotkeys": {
    "equation": "Ctrl-E",
    "itemize": "Ctrl-I"
   },
   "labels_anchors": false,
   "latex_user_defs": false,
   "report_style_numbering": false,
   "user_envs_cfg": false
  },
  "toc": {
   "base_numbering": 1,
   "nav_menu": {},
   "number_sections": true,
   "sideBar": true,
   "skip_h1_title": false,
   "title_cell": "Table of Contents",
   "title_sidebar": "Contents",
   "toc_cell": false,
   "toc_position": {},
   "toc_section_display": true,
   "toc_window_display": false
  },
  "varInspector": {
   "cols": {
    "lenName": 16,
    "lenType": 16,
    "lenVar": 40
   },
   "kernels_config": {
    "python": {
     "delete_cmd_postfix": "",
     "delete_cmd_prefix": "del ",
     "library": "var_list.py",
     "varRefreshCmd": "print(var_dic_list())"
    },
    "r": {
     "delete_cmd_postfix": ") ",
     "delete_cmd_prefix": "rm(",
     "library": "var_list.r",
     "varRefreshCmd": "cat(var_dic_list()) "
    }
   },
   "types_to_exclude": [
    "module",
    "function",
    "builtin_function_or_method",
    "instance",
    "_Feature"
   ],
   "window_display": false
  }
 },
 "nbformat": 4,
 "nbformat_minor": 5
}
