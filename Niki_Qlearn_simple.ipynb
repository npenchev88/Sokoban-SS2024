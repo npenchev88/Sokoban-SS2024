{
 "cells": [
  {
   "cell_type": "markdown",
   "id": "0953c1e7",
   "metadata": {},
   "source": [
    "### Working "
   ]
  },
  {
   "cell_type": "code",
   "execution_count": null,
   "id": "12985198",
   "metadata": {
    "ExecuteTime": {
     "end_time": "2024-06-23T19:18:35.012647Z",
     "start_time": "2024-06-23T19:18:09.668324Z"
    }
   },
   "outputs": [
    {
     "name": "stderr",
     "output_type": "stream",
     "text": [
      "/home/npenchev/.local/lib/python3.12/site-packages/gym/utils/passive_env_checker.py:174: UserWarning: \u001b[33mWARN: Future gym versions will require that `Env.reset` can be passed a `seed` instead of using `Env.seed` for resetting the environment random number generator.\u001b[0m\n",
      "  logger.warn(\n",
      "/home/npenchev/.local/lib/python3.12/site-packages/gym/utils/passive_env_checker.py:187: UserWarning: \u001b[33mWARN: Future gym versions will require that `Env.reset` can be passed `options` to allow the environment initialisation to be passed additional information.\u001b[0m\n",
      "  logger.warn(\n",
      "/home/npenchev/.local/lib/python3.12/site-packages/gym/utils/passive_env_checker.py:195: UserWarning: \u001b[33mWARN: The result returned by `env.reset()` was not a tuple of the form `(obs, info)`, where `obs` is a observation and `info` is a dictionary containing additional information. Actual type: `<class 'numpy.ndarray'>`\u001b[0m\n",
      "  logger.warn(\n",
      "/home/npenchev/.local/lib/python3.12/site-packages/gym/utils/passive_env_checker.py:219: DeprecationWarning: \u001b[33mWARN: Core environment is written in old step API which returns one bool instead of two. It is recommended to rewrite the environment with new step API. \u001b[0m\n",
      "  logger.deprecation(\n",
      "/home/npenchev/.local/lib/python3.12/site-packages/gym/utils/passive_env_checker.py:225: DeprecationWarning: `np.bool8` is a deprecated alias for `np.bool_`.  (Deprecated NumPy 1.24)\n",
      "  if not isinstance(done, (bool, np.bool8)):\n"
     ]
    },
    {
     "name": "stdout",
     "output_type": "stream",
     "text": [
      "[SOKOBAN] Runtime Error/Warning: Generated Model with score == 0\n",
      "[SOKOBAN] Retry . . .\n"
     ]
    }
   ],
   "source": [
    "import gym\n",
    "import gym_sokoban\n",
    "import numpy as np\n",
    "import random\n",
    "from PIL import Image\n",
    "import pickle\n",
    "\n",
    "# Set random seed for reproducibility\n",
    "random.seed(42)\n",
    "np.random.seed(42)\n",
    "\n",
    "# Initialize the Sokoban environment with a specific seed\n",
    "env = gym.make('Sokoban-v2')\n",
    "env.seed(42)\n",
    "\n",
    "# Define Q-learning parameters\n",
    "# Learning Rate (α): Balances new learning with retained knowledge. Higher values adapt quickly; lower values ensure stable learning.\n",
    "# Discount Factor (γ): Determines the importance of future rewards. Higher values promote long-term planning; lower values focus on immediate rewards.\n",
    "# Exploration Rate (ε): Manages the exploration-exploitation trade-off. Higher values encourage exploration; lower values exploit known strategies.\n",
    "# Number of Episodes: More episodes provide more learning opportunities, leading to better performance but requiring more training time.\n",
    "alpha = 0.1  # Learning rate\n",
    "gamma = 0.99  # Discount factor\n",
    "epsilon = 0.1  # Exploration rate\n",
    "num_episodes = 1000  # Number of training episodes\n",
    "q_table_filename = \"q_table_3.pkl\"\n",
    "# Initialize the Q-table\n",
    "q_table = {}\n",
    "\n",
    "def get_state_key(state):\n",
    "    return str(state.tolist())\n",
    "\n",
    "def choose_action(state, epsilon):\n",
    "    state_key = get_state_key(state)\n",
    "    if random.uniform(0, 1) < epsilon or state_key not in q_table:\n",
    "        return env.action_space.sample()  # Explore action space\n",
    "    return np.argmax(q_table[state_key])  # Exploit learned values\n",
    "# ALREADY TRAINED PLEASE LOAD THE PICKLE BELOW q_table.pkl\n",
    "# Training the Q-learning algorithm\n",
    "for episode in range(num_episodes):\n",
    "    state = env.reset()\n",
    "    done = False\n",
    "\n",
    "    while not done:\n",
    "        state_key = get_state_key(state)\n",
    "        action = choose_action(state, epsilon)\n",
    "\n",
    "        next_state, reward, done, info = env.step(action)\n",
    "        next_state_key = get_state_key(next_state)\n",
    "        # print(reward, done, info)\n",
    "        # Initialize Q-values for new states\n",
    "        if state_key not in q_table:\n",
    "            q_table[state_key] = np.zeros(env.action_space.n)\n",
    "        if next_state_key not in q_table:\n",
    "            q_table[next_state_key] = np.zeros(env.action_space.n)\n",
    "\n",
    "        # Update Q-values\n",
    "        best_next_action = np.argmax(q_table[next_state_key])\n",
    "        td_target = reward + gamma * q_table[next_state_key][best_next_action]\n",
    "        td_delta = td_target - q_table[state_key][action]\n",
    "        q_table[state_key][action] += alpha * td_delta\n",
    "\n",
    "        state = next_state\n",
    "\n",
    "    if (episode + 1) % 100 == 0:\n",
    "        print(f\"Episode {episode + 1}/{num_episodes} completed.\")\n",
    "\n",
    "# Save the Q-table to a file\n",
    "with open(q_table_filename, 'wb') as f:\n",
    "    pickle.dump(q_table, f)\n",
    "print(f\"Q-table saved to {q_table_filename}\")\n",
    "\n",
    "print(\"Training completed.\")\n",
    "\n",
    "# Load the Q-table from the file\n",
    "with open(q_table_filename, 'rb') as f:\n",
    "    q_table = pickle.load(f)\n",
    "print(f\"Q-table loaded from {q_table_filename}\")\n",
    "\n",
    "# Function to save image as JPG\n",
    "def save_image_as_jpg(image, filename):\n",
    "    img = Image.fromarray(image)\n",
    "    img.save(filename, 'JPEG')\n",
    "    \n",
    "# Testing the Q-learning algorithm\n",
    "state = env.reset()\n",
    "done = False\n",
    "total_reward = 0\n",
    "steps = 0\n",
    "while not done:\n",
    "    img = env.render(mode='rgb_array')\n",
    "    save_image_as_jpg(img, f\"q_table_solver_{steps}\")\n",
    "    state_key = get_state_key(state)\n",
    "    action = np.argmax(q_table[state_key])\n",
    "    state, reward, done, info = env.step(action)\n",
    "    total_reward += reward\n",
    "    steps+=1\n",
    "    print(f\"Step: {steps}, current reward {round(total_reward,2)}\")\n",
    "\n",
    "img = env.render(mode='rgb_array')\n",
    "print(f\"Total reward during test: {total_reward}\")\n",
    "print(f\"Level Completed. Steps: {steps}\")"
   ]
  },
  {
   "cell_type": "code",
   "execution_count": null,
   "id": "9bba1775-76ee-4404-9fb9-9bb5923533af",
   "metadata": {},
   "outputs": [],
   "source": []
  }
 ],
 "metadata": {
  "kernelspec": {
   "display_name": "Python (sokoban_2)",
   "language": "python",
   "name": "sokoban_2"
  },
  "language_info": {
   "codemirror_mode": {
    "name": "ipython",
    "version": 3
   },
   "file_extension": ".py",
   "mimetype": "text/x-python",
   "name": "python",
   "nbconvert_exporter": "python",
   "pygments_lexer": "ipython3",
   "version": "3.12.4"
  },
  "latex_envs": {
   "LaTeX_envs_menu_present": true,
   "autoclose": false,
   "autocomplete": true,
   "bibliofile": "biblio.bib",
   "cite_by": "apalike",
   "current_citInitial": 1,
   "eqLabelWithNumbers": true,
   "eqNumInitial": 1,
   "hotkeys": {
    "equation": "Ctrl-E",
    "itemize": "Ctrl-I"
   },
   "labels_anchors": false,
   "latex_user_defs": false,
   "report_style_numbering": false,
   "user_envs_cfg": false
  },
  "toc": {
   "base_numbering": 1,
   "nav_menu": {},
   "number_sections": true,
   "sideBar": true,
   "skip_h1_title": false,
   "title_cell": "Table of Contents",
   "title_sidebar": "Contents",
   "toc_cell": false,
   "toc_position": {},
   "toc_section_display": true,
   "toc_window_display": false
  },
  "varInspector": {
   "cols": {
    "lenName": 16,
    "lenType": 16,
    "lenVar": 40
   },
   "kernels_config": {
    "python": {
     "delete_cmd_postfix": "",
     "delete_cmd_prefix": "del ",
     "library": "var_list.py",
     "varRefreshCmd": "print(var_dic_list())"
    },
    "r": {
     "delete_cmd_postfix": ") ",
     "delete_cmd_prefix": "rm(",
     "library": "var_list.r",
     "varRefreshCmd": "cat(var_dic_list()) "
    }
   },
   "types_to_exclude": [
    "module",
    "function",
    "builtin_function_or_method",
    "instance",
    "_Feature"
   ],
   "window_display": false
  }
 },
 "nbformat": 4,
 "nbformat_minor": 5
}
