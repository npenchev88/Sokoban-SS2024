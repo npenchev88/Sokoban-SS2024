{
 "cells": [
  {
   "cell_type": "code",
   "execution_count": null,
   "id": "92167890-265f-45e2-8fa0-da7f1daae498",
   "metadata": {},
   "outputs": [],
   "source": [
    "import gym\n",
    "import gym_sokoban\n",
    "import pyglet\n",
    "import time\n",
    "import numpy as np\n",
    "from stable_baselines3 import PPO\n",
    "from PIL import Image"
   ]
  },
  {
   "cell_type": "code",
   "execution_count": null,
   "id": "a0251fda-83f0-42b0-9521-d70a42cc81fa",
   "metadata": {},
   "outputs": [],
   "source": [
    "## Custom rendering setup if gym's rendering is not available\n",
    "class Viewer:\n",
    "    def __init__(self, width, height):\n",
    "        self.window = pyglet.window.Window(width, height)\n",
    "\n",
    "    def render(self, image):\n",
    "        self.window.clear()\n",
    "        pyglet.image.ImageData(image.shape[1], image.shape[0], 'RGB', image.tobytes(), pitch=image.shape[1]*-3).blit(0, 0)\n",
    "        self.window.flip()"
   ]
  },
  {
   "cell_type": "code",
   "execution_count": null,
   "id": "888891b5-b67a-43ff-b6d2-193bb1d171fb",
   "metadata": {},
   "outputs": [],
   "source": [
    "# Function to save image as JPG\n",
    "def save_image_as_jpg(image, filename):\n",
    "    img = Image.fromarray(image)\n",
    "    img.save(filename, 'JPEG')\n",
    "env = gym.make('Sokoban-small-v1')\n",
    "# model = PPO('MlpPolicy', env, verbose=1)\n",
    "\n",
    "# # Train the model\n",
    "# model.learn(total_timesteps=100000)\n",
    "# # Save the model to a file\n",
    "# model.save(\"ppo_test\")\n",
    "\n",
    "# loaded_model = PPO.load(\"ppo_test\")\n",
    "\n",
    "env.reset()"
   ]
  },
  {
   "cell_type": "code",
   "execution_count": null,
   "id": "4a188209-76ef-4918-8ebf-088e0d38da01",
   "metadata": {},
   "outputs": [],
   "source": [
    "viewer = Viewer(160, 160)  # Adjust the size according to your environment"
   ]
  },
  {
   "cell_type": "code",
   "execution_count": null,
   "id": "89eeaf70-b3be-47d1-bfdc-3c8bc595b365",
   "metadata": {},
   "outputs": [],
   "source": [
    "ACTION_LOOKUP = env.unwrapped.get_action_lookup()\n",
    "# print(\"Created environment: {}\".format('Sokoban-v2'))\n",
    "img = env.render(mode='rgb_array')\n",
    "# Save the initial observation as a JPG file\n",
    "save_image_as_jpg(img, 'initial_observation.jpg')\n",
    "for i_episode in range(1):#20\n",
    "    # observation = env.reset()\n",
    "\n",
    "    for t in range(100):#100\n",
    "        img = env.render(mode='rgb_array')\n",
    "        print(img)\n",
    "        viewer.render(env.render(mode='rgb_array'))\n",
    "        action = env.action_space.sample()\n",
    "        # action, _states = loaded_model.predict(obs, deterministic=True)\n",
    "        print(ACTION_LOOKUP)\n",
    "        action = int(action)  \n",
    "        # Sleep makes the actions visible for users\n",
    "        time.sleep(1)\n",
    "        observation, reward, done, info = env.step(action)\n",
    "\n",
    "        print(type(observation))\n",
    "\n",
    "        print(ACTION_LOOKUP[action], reward, done, info)\n",
    "        if done:\n",
    "            print(\"Episode finished after {} timesteps\".format(t+1))\n",
    "            viewer.render(env.render(mode='rgb_array'))\n",
    "            break\n",
    "\n",
    "    env.close()\n",
    "\n",
    "time.sleep(10)"
   ]
  },
  {
   "cell_type": "code",
   "execution_count": null,
   "id": "a2409bf3-dba0-4dc2-a2ce-3b764304b70e",
   "metadata": {},
   "outputs": [],
   "source": []
  }
 ],
 "metadata": {
  "kernelspec": {
   "display_name": "Python (sokoban_2)",
   "language": "python",
   "name": "sokoban_2"
  },
  "language_info": {
   "codemirror_mode": {
    "name": "ipython",
    "version": 3
   },
   "file_extension": ".py",
   "mimetype": "text/x-python",
   "name": "python",
   "nbconvert_exporter": "python",
   "pygments_lexer": "ipython3",
   "version": "3.12.4"
  }
 },
 "nbformat": 4,
 "nbformat_minor": 5
}
