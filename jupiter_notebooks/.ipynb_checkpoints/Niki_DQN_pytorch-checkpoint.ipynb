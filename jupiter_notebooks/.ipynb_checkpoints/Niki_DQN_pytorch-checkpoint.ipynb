{
 "cells": [
  {
   "cell_type": "markdown",
   "id": "0953c1e7",
   "metadata": {},
   "source": [
    "### Working "
   ]
  },
  {
   "cell_type": "code",
   "execution_count": null,
   "id": "12985198",
   "metadata": {
    "ExecuteTime": {
     "end_time": "2024-06-23T19:18:35.012647Z",
     "start_time": "2024-06-23T19:18:09.668324Z"
    }
   },
   "outputs": [],
   "source": [
    "import gym\n",
    "import gym_sokoban\n",
    "from stable_baselines3 import PPO\n",
    "from stable_baselines3.common.callbacks import EvalCallback\n",
    "\n",
    "# Custom reward function can be added in the environment wrapper\n",
    "class CustomSokobanEnv(gym.Wrapper):\n",
    "    def __init__(self, env):\n",
    "        super(CustomSokobanEnv, self).__init__(env)\n",
    "        self.env = env\n",
    "\n",
    "    def step(self, action):\n",
    "        obs, reward, done, info = self.env.step(action)\n",
    "        # Modify the reward here\n",
    "        reward -= 0.01  # Penalize each step to encourage faster solutions\n",
    "        if done and 'all_boxes_on_target' in info and info['all_boxes_on_target']:\n",
    "            reward += 10.0  # Large reward for solving the puzzle\n",
    "        return obs, reward, done, info\n",
    "\n",
    "env = gym.make('Sokoban-small-v1')\n",
    "env = CustomSokobanEnv(env)\n",
    "\n",
    "# Define the PPO model\n",
    "model = PPO(\n",
    "    \"MlpPolicy\",\n",
    "    env,\n",
    "    verbose=1,\n",
    "    learning_rate=3e-4,  # Adjusted learning rate\n",
    "    n_steps=2048,  # Number of steps to run for each environment per update\n",
    "    batch_size=64,  # Minibatch size\n",
    "    n_epochs=10,  # Number of epochs to update the policy\n",
    "    gamma=0.99,  # Discount factor\n",
    "    gae_lambda=0.95,  # GAE lambda\n",
    "    clip_range=0.2,  # Clipping parameter\n",
    "    ent_coef=0.01,  # Entropy coefficient\n",
    ")\n",
    "\n",
    "# Callback for evaluation\n",
    "eval_callback = EvalCallback(\n",
    "    env,\n",
    "    best_model_save_path='./logs/',\n",
    "    log_path='./logs/',\n",
    "    eval_freq=10000,\n",
    "    deterministic=True,\n",
    "    render=False\n",
    ")\n",
    "\n",
    "# # Train the model\n",
    "# model.learn(total_timesteps=100000, callback=eval_callback)\n",
    "\n",
    "# # Save the model\n",
    "# model.save(\"ppo_sokoban_optimized\")\n",
    "\n",
    "# # Load the trained model\n",
    "loaded_model = PPO.load(\"ppo_sokoban_optimized\")\n",
    "\n",
    "# Evaluate the trained model\n",
    "obs = env.reset()\n",
    "while True:\n",
    "    action, _states = loaded_model.predict(obs, deterministic=False)\n",
    "    action = int(action)\n",
    "    obs, reward, done, info = env.step(action)\n",
    "    image = env.render(mode='rgb_array')\n",
    "\n",
    "    print(f\"Action: {action}, Reward: {reward}, Done: {done}, Info: {info}\")\n",
    "\n",
    "    if done:\n",
    "        print(\"Episode finished.\")\n",
    "        break\n"
   ]
  },
  {
   "cell_type": "code",
   "execution_count": null,
   "id": "7b4f580e-6f4b-41c2-a088-662d98e362c0",
   "metadata": {},
   "outputs": [],
   "source": []
  }
 ],
 "metadata": {
  "kernelspec": {
   "display_name": "Python (sokoban_2)",
   "language": "python",
   "name": "sokoban_2"
  },
  "language_info": {
   "codemirror_mode": {
    "name": "ipython",
    "version": 3
   },
   "file_extension": ".py",
   "mimetype": "text/x-python",
   "name": "python",
   "nbconvert_exporter": "python",
   "pygments_lexer": "ipython3",
   "version": "3.12.4"
  },
  "latex_envs": {
   "LaTeX_envs_menu_present": true,
   "autoclose": false,
   "autocomplete": true,
   "bibliofile": "biblio.bib",
   "cite_by": "apalike",
   "current_citInitial": 1,
   "eqLabelWithNumbers": true,
   "eqNumInitial": 1,
   "hotkeys": {
    "equation": "Ctrl-E",
    "itemize": "Ctrl-I"
   },
   "labels_anchors": false,
   "latex_user_defs": false,
   "report_style_numbering": false,
   "user_envs_cfg": false
  },
  "toc": {
   "base_numbering": 1,
   "nav_menu": {},
   "number_sections": true,
   "sideBar": true,
   "skip_h1_title": false,
   "title_cell": "Table of Contents",
   "title_sidebar": "Contents",
   "toc_cell": false,
   "toc_position": {},
   "toc_section_display": true,
   "toc_window_display": false
  },
  "varInspector": {
   "cols": {
    "lenName": 16,
    "lenType": 16,
    "lenVar": 40
   },
   "kernels_config": {
    "python": {
     "delete_cmd_postfix": "",
     "delete_cmd_prefix": "del ",
     "library": "var_list.py",
     "varRefreshCmd": "print(var_dic_list())"
    },
    "r": {
     "delete_cmd_postfix": ") ",
     "delete_cmd_prefix": "rm(",
     "library": "var_list.r",
     "varRefreshCmd": "cat(var_dic_list()) "
    }
   },
   "types_to_exclude": [
    "module",
    "function",
    "builtin_function_or_method",
    "instance",
    "_Feature"
   ],
   "window_display": false
  }
 },
 "nbformat": 4,
 "nbformat_minor": 5
}
