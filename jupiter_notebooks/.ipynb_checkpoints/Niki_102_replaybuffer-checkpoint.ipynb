{
 "cells": [
  {
   "cell_type": "markdown",
   "id": "0953c1e7",
   "metadata": {},
   "source": [
    "### Working "
   ]
  },
  {
   "cell_type": "code",
   "execution_count": 2,
   "id": "12985198",
   "metadata": {
    "ExecuteTime": {
     "end_time": "2024-06-23T19:18:35.012647Z",
     "start_time": "2024-06-23T19:18:09.668324Z"
    }
   },
   "outputs": [
    {
     "name": "stdout",
     "output_type": "stream",
     "text": [
      "[[0 0 0 0 0 0 0]\n",
      " [0 1 1 2 0 0 0]\n",
      " [0 1 1 1 0 0 0]\n",
      " [0 1 1 1 0 0 0]\n",
      " [0 1 1 2 2 0 0]\n",
      " [0 1 1 1 1 0 0]\n",
      " [0 0 0 0 0 0 0]] [[0 0 0 0 0 0 0]\n",
      " [0 1 1 2 0 0 0]\n",
      " [0 1 4 1 0 0 0]\n",
      " [0 5 4 1 0 0 0]\n",
      " [0 1 4 2 2 0 0]\n",
      " [0 1 1 1 1 0 0]\n",
      " [0 0 0 0 0 0 0]] {(1, 3): (3, 2), (4, 3): (4, 2), (4, 4): (2, 2)}\n"
     ]
    },
    {
     "ename": "NameError",
     "evalue": "name 'CustomSokobanEnv' is not defined",
     "output_type": "error",
     "traceback": [
      "\u001b[0;31m---------------------------------------------------------------------------\u001b[0m",
      "\u001b[0;31mNameError\u001b[0m                                 Traceback (most recent call last)",
      "Cell \u001b[0;32mIn[2], line 43\u001b[0m\n\u001b[1;32m     38\u001b[0m         \u001b[38;5;28mself\u001b[39m\u001b[38;5;241m.\u001b[39mpriorities[batch_indices] \u001b[38;5;241m=\u001b[39m batch_priorities\n\u001b[1;32m     42\u001b[0m env \u001b[38;5;241m=\u001b[39m gym\u001b[38;5;241m.\u001b[39mmake(\u001b[38;5;124m'\u001b[39m\u001b[38;5;124mSokoban-small-v1\u001b[39m\u001b[38;5;124m'\u001b[39m)\n\u001b[0;32m---> 43\u001b[0m env \u001b[38;5;241m=\u001b[39m \u001b[43mCustomSokobanEnv\u001b[49m(env)\n\u001b[1;32m     45\u001b[0m model \u001b[38;5;241m=\u001b[39m DQN(\u001b[38;5;124m\"\u001b[39m\u001b[38;5;124mMlpPolicy\u001b[39m\u001b[38;5;124m\"\u001b[39m, env, verbose\u001b[38;5;241m=\u001b[39m\u001b[38;5;241m1\u001b[39m, buffer_size\u001b[38;5;241m=\u001b[39m\u001b[38;5;241m50000\u001b[39m, replay_buffer_class\u001b[38;5;241m=\u001b[39mPrioritizedReplayBuffer)\n\u001b[1;32m     47\u001b[0m \u001b[38;5;66;03m# Train the model\u001b[39;00m\n",
      "\u001b[0;31mNameError\u001b[0m: name 'CustomSokobanEnv' is not defined"
     ]
    }
   ],
   "source": [
    "import gym\n",
    "import gym_sokoban\n",
    "from stable_baselines3 import DQN\n",
    "from stable_baselines3.common.callbacks import EvalCallback\n",
    "from stable_baselines3.common.buffers import ReplayBuffer\n",
    "\n",
    "# Custom reward function can be added in the environment wrapper\n",
    "class CustomSokobanEnv(gym.Wrapper):\n",
    "    def __init__(self, env):\n",
    "        super(CustomSokobanEnv, self).__init__(env)\n",
    "        self.env = env\n",
    "\n",
    "    def step(self, action):\n",
    "        obs, reward, done, info = self.env.step(action)\n",
    "        # Modify the reward here\n",
    "        # Example: Penalize each step to encourage faster solutions\n",
    "        reward -= 0.01\n",
    "        if done and 'all_boxes_on_target' in info and info['all_boxes_on_target']:\n",
    "            reward += 10.0  # Large reward for solving the puzzle\n",
    "        return obs, reward, done, info\n",
    "\n",
    "class PrioritizedReplayBuffer(ReplayBuffer):\n",
    "    def __init__(self, buffer_size, observation_space, action_space, alpha=0.6):\n",
    "        super(PrioritizedReplayBuffer, self).__init__(buffer_size, observation_space, action_space)\n",
    "        self.alpha = alpha\n",
    "        self.priorities = np.zeros((buffer_size,), dtype=np.float32)\n",
    "\n",
    "    def add(self, obs, next_obs, action, reward, done):\n",
    "        max_prio = self.priorities.max() if self.buffer_size > 0 else 1.0\n",
    "        super().add(obs, next_obs, action, reward, done)\n",
    "        self.priorities[self.pos - 1] = max_prio\n",
    "\n",
    "    def sample(self, batch_size, beta=0.4):\n",
    "        if self.buffer_size == self.size:\n",
    "            prios = self.priorities\n",
    "        else:\n",
    "            prios = self.priorities[:self.pos]\n",
    "\n",
    "        probs = prios ** self.alpha\n",
    "        probs /= probs.sum()\n",
    "\n",
    "        indices = np.random.choice(self.size, batch_size, p=probs)\n",
    "        samples = super().sample(batch_size)\n",
    "        total = self.size\n",
    "        weights = (total * probs[indices]) ** (-beta)\n",
    "        weights /= weights.max()\n",
    "        samples['weights'] = weights\n",
    "        samples['indices'] = indices\n",
    "        return samples\n",
    "\n",
    "    def update_priorities(self, batch_indices, batch_priorities):\n",
    "        self.priorities[batch_indices] = batch_priorities\n",
    "\n",
    "\n",
    "env = gym.make('Sokoban-small-v1')\n",
    "env = CustomSokobanEnv(env)\n",
    "\n",
    "model = DQN(\"MlpPolicy\", env, verbose=1, buffer_size=50000, replay_buffer_class=PrioritizedReplayBuffer)\n",
    "\n",
    "# Train the model\n",
    "model.learn(total_timesteps=1000000)\n",
    "\n",
    "# Save the model\n",
    "model.save(\"dqn_sokoban_buffer\")\n",
    "\n",
    "# # Load the trained model\n",
    "# loaded_model = DQN.load(\"dqn_sokoban_buffer\")\n",
    "\n",
    "# # Evaluate the trained model\n",
    "# obs = env.reset()\n",
    "# while True:\n",
    "#     action, _states = loaded_model.predict(obs, deterministic=True)\n",
    "#     action = int(action)\n",
    "#     obs, reward, done, info = env.step(action)\n",
    "#     image = env.render(mode='rgb_array')\n",
    "    \n",
    "#     print(f\"Action: {action}, Reward: {reward}, Done: {done}, Info: {info}\")\n",
    "    \n",
    "#     if done:\n",
    "#         print(\"Episode finished.\")\n",
    "#         break\n"
   ]
  },
  {
   "cell_type": "code",
   "execution_count": null,
   "id": "7b4f580e-6f4b-41c2-a088-662d98e362c0",
   "metadata": {},
   "outputs": [],
   "source": []
  }
 ],
 "metadata": {
  "kernelspec": {
   "display_name": "Python (sokoban_2)",
   "language": "python",
   "name": "sokoban_2"
  },
  "language_info": {
   "codemirror_mode": {
    "name": "ipython",
    "version": 3
   },
   "file_extension": ".py",
   "mimetype": "text/x-python",
   "name": "python",
   "nbconvert_exporter": "python",
   "pygments_lexer": "ipython3",
   "version": "3.12.4"
  },
  "latex_envs": {
   "LaTeX_envs_menu_present": true,
   "autoclose": false,
   "autocomplete": true,
   "bibliofile": "biblio.bib",
   "cite_by": "apalike",
   "current_citInitial": 1,
   "eqLabelWithNumbers": true,
   "eqNumInitial": 1,
   "hotkeys": {
    "equation": "Ctrl-E",
    "itemize": "Ctrl-I"
   },
   "labels_anchors": false,
   "latex_user_defs": false,
   "report_style_numbering": false,
   "user_envs_cfg": false
  },
  "toc": {
   "base_numbering": 1,
   "nav_menu": {},
   "number_sections": true,
   "sideBar": true,
   "skip_h1_title": false,
   "title_cell": "Table of Contents",
   "title_sidebar": "Contents",
   "toc_cell": false,
   "toc_position": {},
   "toc_section_display": true,
   "toc_window_display": false
  },
  "varInspector": {
   "cols": {
    "lenName": 16,
    "lenType": 16,
    "lenVar": 40
   },
   "kernels_config": {
    "python": {
     "delete_cmd_postfix": "",
     "delete_cmd_prefix": "del ",
     "library": "var_list.py",
     "varRefreshCmd": "print(var_dic_list())"
    },
    "r": {
     "delete_cmd_postfix": ") ",
     "delete_cmd_prefix": "rm(",
     "library": "var_list.r",
     "varRefreshCmd": "cat(var_dic_list()) "
    }
   },
   "types_to_exclude": [
    "module",
    "function",
    "builtin_function_or_method",
    "instance",
    "_Feature"
   ],
   "window_display": false
  }
 },
 "nbformat": 4,
 "nbformat_minor": 5
}
